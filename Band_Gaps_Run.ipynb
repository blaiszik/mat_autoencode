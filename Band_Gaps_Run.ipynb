{
 "cells": [
  {
   "cell_type": "code",
   "execution_count": 28,
   "metadata": {},
   "outputs": [
    {
     "name": "stdout",
     "output_type": "stream",
     "text": [
      "b'2.7.15 (default, Oct  1 2018, 15:59:56) \\n[GCC 4.2.1 Compatible Apple LLVM 10.0.0 (clang-1000.11.45.2)]\\n'\n",
      "None\n"
     ]
    }
   ],
   "source": [
    "import numpy as np\n",
    "import pandas as pd\n",
    "import matplotlib.pyplot as plt\n",
    "import subprocess\n",
    "import os\n",
    "import sys\n",
    "%matplotlib inline\n",
    "\n",
    "os.system('source deactivate anaconda3')\n",
    "python3_command = \"python2.7 mars_compute.py \"+str([1,2])+\" \"+str([3,4])  # Must run the MARS fitting process in Python2!\n",
    "process = subprocess.Popen(python3_command.split(), stdout=subprocess.PIPE)\n",
    "output, error = process.communicate()\n",
    "os.system('source activate anaconda3')\n",
    "print(output)\n",
    "print(error)"
   ]
  },
  {
   "cell_type": "code",
   "execution_count": 29,
   "metadata": {},
   "outputs": [
    {
     "ename": "RemoteError",
     "evalue": "Traceback (most recent call last):\n  File \"<string>\", line 1072, in executetask\n  File \"<string>\", line 1, in do_exec\n  File \"<remote exec>\", line 2, in <module>\n  File \"mars_compute.py\", line 4, in <module>\n    from pyearth import Earth, export\nImportError: No module named pyearth\n",
     "output_type": "error",
     "traceback": [
      "\u001b[0;31m---------------------------------------------------------------------------\u001b[0m",
      "\u001b[0;31mRemoteError\u001b[0m                               Traceback (most recent call last)",
      "\u001b[0;32m<ipython-input-29-437b5dcc7806>\u001b[0m in \u001b[0;36m<module>\u001b[0;34m\u001b[0m\n\u001b[1;32m     12\u001b[0m \u001b[0;34m\u001b[0m\u001b[0m\n\u001b[1;32m     13\u001b[0m result = call_python_version(\"2.7\", \"mars_compute\", \"print_stuff\",  \n\u001b[0;32m---> 14\u001b[0;31m                              [\"Mr\", \"Bear\"]) \n\u001b[0m\u001b[1;32m     15\u001b[0m \u001b[0mprint\u001b[0m\u001b[0;34m(\u001b[0m\u001b[0mresult\u001b[0m\u001b[0;34m)\u001b[0m\u001b[0;34m\u001b[0m\u001b[0m\n",
      "\u001b[0;32m<ipython-input-29-437b5dcc7806>\u001b[0m in \u001b[0;36mcall_python_version\u001b[0;34m(Version, Module, Function, ArgumentList)\u001b[0m\n\u001b[1;32m      8\u001b[0m     \"\"\" % (Module, Function))\n\u001b[1;32m      9\u001b[0m     \u001b[0mchannel\u001b[0m\u001b[0;34m.\u001b[0m\u001b[0msend\u001b[0m\u001b[0;34m(\u001b[0m\u001b[0mArgumentList\u001b[0m\u001b[0;34m)\u001b[0m\u001b[0;34m\u001b[0m\u001b[0m\n\u001b[0;32m---> 10\u001b[0;31m     \u001b[0;32mreturn\u001b[0m \u001b[0mchannel\u001b[0m\u001b[0;34m.\u001b[0m\u001b[0mreceive\u001b[0m\u001b[0;34m(\u001b[0m\u001b[0;34m)\u001b[0m\u001b[0;34m\u001b[0m\u001b[0m\n\u001b[0m\u001b[1;32m     11\u001b[0m \u001b[0;34m\u001b[0m\u001b[0m\n\u001b[1;32m     12\u001b[0m \u001b[0;34m\u001b[0m\u001b[0m\n",
      "\u001b[0;32m/anaconda3/lib/python3.6/site-packages/execnet/gateway_base.py\u001b[0m in \u001b[0;36mreceive\u001b[0;34m(self, timeout)\u001b[0m\n\u001b[1;32m    735\u001b[0m         \u001b[0;32mif\u001b[0m \u001b[0mx\u001b[0m \u001b[0;32mis\u001b[0m \u001b[0mENDMARKER\u001b[0m\u001b[0;34m:\u001b[0m\u001b[0;34m\u001b[0m\u001b[0m\n\u001b[1;32m    736\u001b[0m             \u001b[0mitemqueue\u001b[0m\u001b[0;34m.\u001b[0m\u001b[0mput\u001b[0m\u001b[0;34m(\u001b[0m\u001b[0mx\u001b[0m\u001b[0;34m)\u001b[0m  \u001b[0;31m# for other receivers\u001b[0m\u001b[0;34m\u001b[0m\u001b[0m\n\u001b[0;32m--> 737\u001b[0;31m             \u001b[0;32mraise\u001b[0m \u001b[0mself\u001b[0m\u001b[0;34m.\u001b[0m\u001b[0m_getremoteerror\u001b[0m\u001b[0;34m(\u001b[0m\u001b[0;34m)\u001b[0m \u001b[0;32mor\u001b[0m \u001b[0mEOFError\u001b[0m\u001b[0;34m(\u001b[0m\u001b[0;34m)\u001b[0m\u001b[0;34m\u001b[0m\u001b[0m\n\u001b[0m\u001b[1;32m    738\u001b[0m         \u001b[0;32melse\u001b[0m\u001b[0;34m:\u001b[0m\u001b[0;34m\u001b[0m\u001b[0m\n\u001b[1;32m    739\u001b[0m             \u001b[0;32mreturn\u001b[0m \u001b[0mx\u001b[0m\u001b[0;34m\u001b[0m\u001b[0m\n",
      "\u001b[0;31mRemoteError\u001b[0m: Traceback (most recent call last):\n  File \"<string>\", line 1072, in executetask\n  File \"<string>\", line 1, in do_exec\n  File \"<remote exec>\", line 2, in <module>\n  File \"mars_compute.py\", line 4, in <module>\n    from pyearth import Earth, export\nImportError: No module named pyearth\n"
     ]
    }
   ],
   "source": [
    "import execnet\n",
    "\n",
    "def call_python_version(Version, Module, Function, ArgumentList):\n",
    "    gw      = execnet.makegateway(\"popen//python=python%s\" % Version)\n",
    "    channel = gw.remote_exec(\"\"\"\n",
    "        from %s import %s as the_function\n",
    "        channel.send(the_function(*channel.receive()))\n",
    "    \"\"\" % (Module, Function))\n",
    "    channel.send(ArgumentList)\n",
    "    return channel.receive()\n",
    "\n",
    "\n",
    "result = call_python_version(\"2.7\", \"mars_compute\", \"print_stuff\",  \n",
    "                             [\"Mr\", \"Bear\"]) \n",
    "print(result) \n"
   ]
  },
  {
   "cell_type": "code",
   "execution_count": null,
   "metadata": {},
   "outputs": [],
   "source": []
  }
 ],
 "metadata": {
  "kernelspec": {
   "display_name": "Python 3",
   "language": "python",
   "name": "python3"
  },
  "language_info": {
   "codemirror_mode": {
    "name": "ipython",
    "version": 3
   },
   "file_extension": ".py",
   "mimetype": "text/x-python",
   "name": "python",
   "nbconvert_exporter": "python",
   "pygments_lexer": "ipython3",
   "version": "3.6.6"
  }
 },
 "nbformat": 4,
 "nbformat_minor": 2
}
